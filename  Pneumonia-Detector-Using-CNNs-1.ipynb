{
 "cells": [
  {
   "cell_type": "markdown",
   "id": "a00aae92-9894-4f78-9a88-f7c543d5628d",
   "metadata": {},
   "source": [
    "# **Sklearn Project: Pneumonia Detector Using CNNs**"
   ]
  },
  {
   "cell_type": "markdown",
   "id": "1cef263e-6559-4259-b386-0129ece229a7",
   "metadata": {},
   "source": [
    "# Introduction"
   ]
  },
  {
   "cell_type": "markdown",
   "id": "0648e38d-b36c-45a5-a85d-d42d009e73ca",
   "metadata": {},
   "source": [
    "Over the summer, I got pneumonia, which is an infection in the lungs, where your airsacs fill up with fluid or pus, because of a virus or bateria. My pneumonia was mild, but it was terrible because I was always fatigued, coughing up phlem, I lost my appetite, and I had a hard time breathing."
   ]
  },
  {
   "cell_type": "markdown",
   "id": "6b7e1348-65f3-4de3-ab4b-439873e27b73",
   "metadata": {},
   "source": [
    "Pneumonia is scary and unfortunately can lead to fatality in younger children and the elderly. When I was sick, I researched about pneumonia and learned how pneumonia was detected. Turns out, they were detected through X-Rays and machine learning. I was fascinated and I knew I had to try to make a machine learning model that predicts pneumonia. Not only did I want to do this for the fun of it, but I was more motivated by the fact that this machine learning model can save lives from pneumonia, by helping doctors diagnose patients quicker and take action quickly. Like I said, pneumonia is scary. It's not a joke. It's a serious issue that needs to be addressed so more people can get better quickly and survive."
   ]
  },
  {
   "cell_type": "markdown",
   "id": "4c219eac-c0dc-45cf-aeb8-b3af951af4c8",
   "metadata": {},
   "source": [
    "So here, I took the opportunity to try to make a pneumonia detector! In this project I achieved my goal of building a pneumonia detector that identifies pneumonia based on chest X-rays. The data set I used is from Kaggle and contains 5864 X-ray images of young children (ages one to five), split into three folders: training, validation and testing (train, val, test). Each set is further divided into two categories ‘NORMAL’ (no pneumonia) and ‘PNEUMONIA’ (pneumonia detected). These X-rays were sourced from Guangzhou Women and Children's Medical Center in China, and experts ensured the images were high quality and accurately labeled. "
   ]
  },
  {
   "cell_type": "markdown",
   "id": "e69257d0-b4d7-44c6-b379-0816dfe0e4bb",
   "metadata": {},
   "source": [
    "The biggest challenges I faced included loading the split dataset (since I wasn't familiar with methods outside of Keras) augmenting the data, building a convolutional neural network, avoiding overfitting, and achieving the highest possible test accuracy. Essentially every aspect of the project was a learning curve for me. "
   ]
  },
  {
   "cell_type": "markdown",
   "id": "4dc3eb96-f8e2-4e1b-831e-87503fb241c9",
   "metadata": {},
   "source": [
    "I spent countless hours experimenting with different data augmentation techniques, designing CNN architectures, and training the model. It was challenging but rewarding. Ultimately, I achieved 93.42% accuracy on the test set, but there were still discrepancies in the model. "
   ]
  },
  {
   "cell_type": "markdown",
   "id": "e6672b9c-c9dd-4da5-9b75-63d505e54c8c",
   "metadata": {},
   "source": [
    "Now, let's dive into the steps I took to create this pneumonia detector:"
   ]
  },
  {
   "cell_type": "markdown",
   "id": "bf34f0fc-33ef-4cd0-b7d0-9f5d57c7e710",
   "metadata": {},
   "source": [
    "1. **Importing Packages**"
   ]
  },
  {
   "cell_type": "markdown",
   "id": "ac536c63-9665-414b-9fca-8744bea003c5",
   "metadata": {},
   "source": [
    "2. **Data Augumentation**"
   ]
  },
  {
   "cell_type": "markdown",
   "id": "4fa6ff46-2204-4ddf-af5f-bd2d495f88d7",
   "metadata": {},
   "source": [
    "3. **CNN Architecture**"
   ]
  },
  {
   "cell_type": "markdown",
   "id": "e5c4de34-027d-4190-801c-321e1bc05e47",
   "metadata": {},
   "source": [
    "4. **Model Training**"
   ]
  },
  {
   "cell_type": "markdown",
   "id": "bdcfff99-1f08-49e9-88cf-62eb3dc80ec1",
   "metadata": {},
   "source": [
    "5. **Plotting the Loss and Accuracy**"
   ]
  },
  {
   "cell_type": "markdown",
   "id": "9f1d2b70-9030-4076-bfb3-391537211f5a",
   "metadata": {},
   "source": [
    "6. **Model Evaluation**"
   ]
  },
  {
   "cell_type": "markdown",
   "id": "bc6e551e-f356-4c46-85ea-9d8380bc0502",
   "metadata": {},
   "source": [
    "7. **Reflection**"
   ]
  },
  {
   "cell_type": "markdown",
   "id": "a2e4b1a5-8aea-46cb-b661-a12d8d53e3ee",
   "metadata": {},
   "source": [
    "With that, let's get right into building our pneumonia detector, starting with importing the packages required to accomplish this project."
   ]
  },
  {
   "cell_type": "markdown",
   "id": "3ad90679-ae0c-4e20-944d-ee0575a30139",
   "metadata": {},
   "source": [
    "### Step 1: Importing Packages"
   ]
  },
  {
   "cell_type": "markdown",
   "id": "3eb47a15-22a8-4642-8862-bf3349886dc5",
   "metadata": {},
   "source": [
    "The packages,module,and class that I needed for this project were:"
   ]
  },
  {
   "cell_type": "markdown",
   "id": "a3316b41-3780-42fe-b533-a679dfbe6317",
   "metadata": {},
   "source": [
    "**TensorFlow**: to create and train the CNN"
   ]
  },
  {
   "cell_type": "markdown",
   "id": "c93e4a50-3225-404d-9f12-af44944588ca",
   "metadata": {},
   "source": [
    "**Matplotlib**: to visualize the accuracy and loss of the training and validation set"
   ]
  },
  {
   "cell_type": "markdown",
   "id": "78b98e9b-5c1f-405d-bfa3-4fb9ebfa9169",
   "metadata": {},
   "source": [
    "**os**: to read files from the computer (this is a module)"
   ]
  },
  {
   "cell_type": "markdown",
   "id": "8ac9a6e4-e0d1-4b8e-9291-299a02ce7e58",
   "metadata": {},
   "source": [
    "**ImageDataGenerator**: this class is a special from Keras so you can augument image data. With this class you can make random transformations and normalize image data during training. You can also make generators to get the data from a specific directory on your computer and generate those random transformations and normalization on the images."
   ]
  },
  {
   "cell_type": "code",
   "execution_count": 5,
   "id": "0f88eab1-11f2-4845-b961-4b9d9b49b331",
   "metadata": {},
   "outputs": [],
   "source": [
    "import tensorflow as tf\n",
    "import matplotlib.pyplot as plt\n",
    "import os\n",
    "from tensorflow.keras.preprocessing.image import ImageDataGenerator"
   ]
  },
  {
   "cell_type": "markdown",
   "id": "821a943a-792c-4c64-89a4-e9547851fce5",
   "metadata": {},
   "source": [
    "### Step 2: Data Augumentation"
   ]
  },
  {
   "cell_type": "markdown",
   "id": "a5d727fb-ac0b-4b21-8c02-a8eaa8f3e913",
   "metadata": {},
   "source": [
    "For Step 2, I augumented the data. Like I mentioned, with data augumentation, you apply random transformations to the images like rotations, shearing, and zooming, just to name a few. Augumentation is important so our model can look at various examples of the images and never see the same image more than once. By this, augumentation prevents overfitting and helps the model generalize better. "
   ]
  },
  {
   "cell_type": "markdown",
   "id": "8fee6fa9-2f40-4b31-9328-2b2ef4bb03e5",
   "metadata": {},
   "source": [
    "In this case, I augumented the images by randomly generating rotation, shift in width, the shift in height, the shear range (the angle of the slant in degrees), and the zoom range. I also flip the images horizontally randomly. Honestly, the only reason why I chose these values for these parameters was because I was testing the generator from the The Keras Blog: Building Powerful Image Classification Models Using Very Little Data - I only adjusted the rotation_range because I was curious, and I took out the fill_mode because I didn't think I need it. As bad as that sounds, that's the truth. But in the end, like I mentioned, I got pretty high accuracy. Using the generator example from the website was successful and I was suprised. I had no idea what I was doing in the moment, but it worked out. With machine learning, you need to play around and try whatever you can. "
   ]
  },
  {
   "cell_type": "markdown",
   "id": "7d176246-2a5f-40db-8cfa-2cd886e5b928",
   "metadata": {},
   "source": [
    "To add, I rescaled the values of the images in the train-validation-test sets, which were [0,255] to [0,1]. The images have RGB coefficients ranging from 0 to 255, but it's not practical to use these values because they be too high for the model to process (Keras Blog). To also paraphrase Chat GPT, by normalizing the values, it helps the computations run faster, reduce overflow in matrix multiplication, and we make pixel ranges more consistent. This is especially practical for X-ray images, since pneumonia detected x-rays and normal x-rays have subtle feature differences. So, with normalization, it makes it easier for the model to focus on important instead of looking at raw data with a lot features, with a large scale."
   ]
  },
  {
   "cell_type": "markdown",
   "id": "e90669e0-2688-41c9-9b8c-67102e28abe1",
   "metadata": {},
   "source": [
    "For validation set and the test set, I chose to keep it they were and only rescale them. The whole point of validation is for the model to evaluate the model from the training data, by applying it to unaltered data. The same goes for the test data, where it validates how accurate the model is on more unaltered data, which is from the test set."
   ]
  },
  {
   "cell_type": "markdown",
   "id": "3266acea-e60d-4c4f-ba92-aec2a27dc26a",
   "metadata": {},
   "source": [
    "For loading in the data, I had Chat GPT generate me the code to do this, since I wasn't familiar with how to load in data off other sites than Keras. "
   ]
  },
  {
   "cell_type": "markdown",
   "id": "dd957022-b99e-4792-a564-41d90ec226f2",
   "metadata": {},
   "source": [
    "For the training, validation and test generators, I resized the images to 150 * 150. When looking for the the dimensions to resize the images for pneumonia, I looked at a few pneumonia detectors where they used (224 * 224) , (256 * 256) , and I found one on GitHub, where they used (100 * 150). I tried using (256 * 256) previously, but I don't remember exactly why I  chose 150 * 150. I think I chose this size because I spent a lot of hours training the data, and bigger images took longer to process. So, I made the decision to go a lot smaller than originally. The original images are pretty large, they were somewhere in the 1000 range. However, though 150 * 150 was a lot smaller, it worked. "
   ]
  },
  {
   "cell_type": "markdown",
   "id": "69f761eb-09dd-40f6-b57c-bb6a545d34a8",
   "metadata": {},
   "source": [
    "About the color mode, I set it to 'grayscale' just because the images are grayscaled images. It's simple as that."
   ]
  },
  {
   "cell_type": "markdown",
   "id": "61047826-55be-4dcd-b780-719c59ecbff4",
   "metadata": {},
   "source": [
    "For batch size, I also saw a few example of pneumonia generators to make my batch size. The models for Kaggle's Pnuemonia Detection using CNN (92.6% Accuracy) and Geeks For Geeks Pneumonia Detections Using CNN in Python, both use 32 as the batch size. I looked up on Google why 32 was a good batch size for pneumonia detectors and according to Gemini AI, \" A batch size of 32 is commonly used for training deep learning models to detect pneumonia from chest X-ray images, considered a good default choice as it balances computational efficiency with model accuracy across various research studies; most researchers utilize a batch size of 32 when working with pneumonia detection tasks due to its reliable performance\". So, based on what Gemini AI said about the batch size, I trusted it and also used 32 like other pneumonia detectors."
   ]
  },
  {
   "cell_type": "markdown",
   "id": "e9b0ac11-0f4b-4b34-951b-4c4393ddf178",
   "metadata": {},
   "source": [
    "Finally, about the class_mode, I set it to binary, because this is a binary classifcation problem. We have only two classifcations for the images which are normal (no pneumonia) or pneumonia. Because this has just two categories, this is a binary classification problem."
   ]
  },
  {
   "cell_type": "code",
   "execution_count": 6,
   "id": "670648a2-857d-4c26-b1aa-3b3cb53f7002",
   "metadata": {},
   "outputs": [
    {
     "name": "stdout",
     "output_type": "stream",
     "text": [
      "Found 5216 images belonging to 2 classes.\n",
      "Found 16 images belonging to 2 classes.\n",
      "Found 624 images belonging to 2 classes.\n"
     ]
    }
   ],
   "source": [
    "# define the data augumentation for the training data\n",
    "train_datagen = ImageDataGenerator(\n",
    "    rotation_range=20, # randomly rotate images by up to 20 degrees\n",
    "    width_shift_range=0.2, # randomly shift images horizontally by up to 20% of the width\n",
    "    height_shift_range=0.2, # randomly shift images vertically by up to 20% of the height\n",
    "    rescale=1/255, # rescale values from[0,255] to [0,1]\n",
    "    shear_range=0.2, # randomly apply shearing transformations\n",
    "    zoom_range=0.2, # randomly zoom in on our images\n",
    "    horizontal_flip=True # randomly flip images horizontally\n",
    ")\n",
    "\n",
    "# validation and test not augumented, just rescaled\n",
    "val_datagen = ImageDataGenerator(rescale=1/255)\n",
    "test_datagen = ImageDataGenerator(rescale=1/255)\n",
    "\n",
    "base = '/Users/axellejimenez/Desktop/chest_xray' # looks for the chest_xray folder\n",
    "train_dir = os.path.join(base, 'train') # training set directory \n",
    "val_dir = os.path.join(base, 'val') # validation set directory\n",
    "test_dir = os.path.join(base, 'test') # test set directory\n",
    "\n",
    "# flow_from_directory() reads in images from a directory and applies random transformations\n",
    "train_generator = train_datagen.flow_from_directory(\n",
    "    train_dir, # the path where the folder exists with the train images\n",
    "    target_size=(150, 150), # resize images to 150 x 150\n",
    "    color_mode='grayscale', # convert images to grayscale \n",
    "    batch_size=32, # number of images to process in a batch\n",
    "    class_mode='binary' # binary classifcation\n",
    ")\n",
    "\n",
    "valid_generator = val_datagen.flow_from_directory(\n",
    "    val_dir, # the path where the folder exists with the validation images\n",
    "    target_size=(150, 150), # resize images to 150 x 150\n",
    "    color_mode='grayscale', # convert images to grayscale \n",
    "    batch_size=32, # number of images to process in a batch\n",
    "    class_mode='binary' # binary classifcation\n",
    ")\n",
    "\n",
    "test_generator = test_datagen.flow_from_directory(\n",
    "    test_dir, # the path where the folder exists with the test images\n",
    "    target_size=(150, 150), # resize images to 150 x 150\n",
    "    color_mode='grayscale', # convert images to grayscale \n",
    "    batch_size=32, # number of images to process in a batch\n",
    "    class_mode='binary', # binary classifcation\n",
    "    shuffle=False # don't shuffle test data\n",
    ")"
   ]
  },
  {
   "cell_type": "markdown",
   "id": "850e7900-d199-4266-bf67-84fa8ab4e1a0",
   "metadata": {},
   "source": [
    "### Step 3: CNN Architecture"
   ]
  },
  {
   "cell_type": "markdown",
   "id": "b2b35257-a107-410a-bdca-bb58f1c7a262",
   "metadata": {},
   "source": [
    "In Step 3, I built the Convolutional Neural Network. The model is designed to extract features from the images and make a binary classification for pneumonia. I am not entirely sure which binary number represents if the X-ray shows pneumonia, but I know that the model makes the binary classification. Each layer gets more complex as it looks for more abtract patterns than the previous model. What I mean is that the first model may detect edges and/or textures, and in later layers, it will look for something deeper or something that wasn't caught in the previous layer. "
   ]
  },
  {
   "cell_type": "markdown",
   "id": "8078d54b-ad5e-419e-908b-0c894afe6161",
   "metadata": {},
   "source": [
    "My model architecture is inspired from Kaggle's Pnuemonia Detection using CNN (92.6% Accuracy) and Geeks For Geeks's Pneumonia Detections Using CNN in Python. My model is pretty much a combination of both of their models, where I use a little bit of both models for my model. In my model, I used a similar model structure as the one from Geeks For Geeks. The main difference is that I used 'tf.keras.layers' to make a layer, instead of using just 'layers'. When I tried the model on a previous draft of this project, I got an error saying that 'layers' in not defined. Looking back, I could have just imported layers from keras to solve this, but I didn't think about in the moment. I ended up asking Chat GPT to help me fix the error and it suggested me to use tf.keras.layers. Also, from Geeks For Geeks, I used their first layer, second layer, and convoluton layer to start. I stopped there, not using the rest of their code because they used a flatten layer afterwards, which made me confused. In fact, the rest of their model didn't make sense to me, so I did my own thing. Knowing that the dataset was pretty big, I made two more layers, the third one containing 128 filters (twice as many layers from the second layer), and the fourth layer containing 256 filters (rwice as many layers from the third layer). I used four layers because I knew that this was a big data set and I fel that with three layers, it wouldn't be enough the produce the highest accuracy as possible. However, remembering what I read in Michael Nielson's book *Neural Networks and Deep Learning*, more layers does not always guaratee better predictions. Sometimes, more layers and filters can overfit the model. I think he suggested using at least two layers and at most three layers, but I still felt insecure and used four layers. The CNN from Kaggle uses five layers, which I think is a lot, but at the same time, one of their convolutional 2D layers is duplicated. With that in mind, and from the CNN example we did in class, I used four layers, where each layer doubles the amount of filters. I almost forgot to mention both Kaggle and Geeks for Geeks use 32 filters for their first layer. "
   ]
  },
  {
   "cell_type": "markdown",
   "id": "efd57e8c-896a-46f5-80a2-aff36e8df495",
   "metadata": {},
   "source": [
    "About the kernel, both website used a kernel of 3 * 3 in each layer, so I tried that too. In addition, in Professor Chad's example of a CNN, and in these websites, they used a max pooling layer of 2 * 2, which is pretty common to downsample the feature maps in each convolutional layer, so I used it too. For the activation in each layer, I used 'relu' because Proffesor Chad said to trust that ReLU is the best activation. In the first dense layer, I used 128 units, based on the CNN we worked in on class and Kaggle. After the dense layer, I used a dropout of 50%, which sets half of the units to zero during training - this is different than the class example and the other two pneumoina detectors. I was experimenting. Finally, I made the output layer with one unit since it can only make 1 output, and I used the sigmoid activation since this funciton is also common in pneumonia detectors, like the one from Kaggle and Geeks for Geeks. "
   ]
  },
  {
   "cell_type": "code",
   "execution_count": 7,
   "id": "3fc7bb98-0cc9-49a4-9060-d05a6b61f60d",
   "metadata": {},
   "outputs": [],
   "source": [
    "# model architecture\n",
    "model = tf.keras.models.Sequential([\n",
    "    tf.keras.layers.Input(shape=(150, 150, 1)), # input layer with shape 150 x 150 x 1 grayscale image\n",
    "    \n",
    "    tf.keras.layers.Conv2D(32, (3, 3), activation='relu'), # first layer: convolution layer with 32 filters and a 3 x 3 kernel\n",
    "    tf.keras.layers.MaxPooling2D((2, 2)), # max pooling layer with 2 x 2 pool size\n",
    "    \n",
    "    tf.keras.layers.Conv2D(64, (3, 3), activation='relu'), # second layer: convolution layer with 64 filters and a 3 x 3 kernel\n",
    "    tf.keras.layers.MaxPooling2D((2, 2)), # max pooling layer with 2 x 2 pool size\n",
    "    \n",
    "    tf.keras.layers.Conv2D(128, (3, 3), activation='relu'), # third layer: convolution layer with 128 filters and a 3 x 3 kernel\n",
    "    tf.keras.layers.MaxPooling2D((2, 2)), # max pooling layer with 2 x 2 pool size\n",
    "    \n",
    "    tf.keras.layers.Conv2D(256, (3, 3), activation='relu'), # fourth layer: convolution layer with 256 filters and a 3 x 3 kernel\n",
    "    tf.keras.layers.MaxPooling2D((2, 2)), # max pooling layer with 2 x 2 pool size\n",
    "    \n",
    "    tf.keras.layers.Flatten(), # flatten the output to a 1D array\n",
    "    tf.keras.layers.Dense(128, activation='relu'), # fully connected layer with 128 units \n",
    "    tf.keras.layers.Dropout(0.5), # dropout layer to prevent overfitting, dropping 50% of the units\n",
    "    \n",
    "    tf.keras.layers.Dense(1, activation='sigmoid') # output layer: 1 unit and relu activation for binary classification\n",
    "])"
   ]
  },
  {
   "cell_type": "markdown",
   "id": "37109d1b-3cc5-4e40-b787-f1843511bcb7",
   "metadata": {},
   "source": [
    "Once the architecture was set up, I compiled the model. I used the Adam optimizer for efficient training and binary cross entropy as a loss function, which is standard for binary classification tasks. Additionally, I tracked accuracy as a metric to monitor performance during training. "
   ]
  },
  {
   "cell_type": "code",
   "execution_count": 8,
   "id": "7f0086c6-06ae-48fe-9bf3-dc6c63317b37",
   "metadata": {},
   "outputs": [],
   "source": [
    "# compile the model\n",
    "model.compile(\n",
    "    optimizer='adam', # adam optimizer\n",
    "    loss=tf.keras.losses.BinaryCrossentropy(), # binary crossentroy loss function\n",
    "    metrics=['accuracy'] # track accuracy during training\n",
    ")"
   ]
  },
  {
   "cell_type": "markdown",
   "id": "578cf60c-71ed-4603-a5ce-58270be094a5",
   "metadata": {},
   "source": [
    "### Step 4: Model Training"
   ]
  },
  {
   "cell_type": "markdown",
   "id": "a0d5d9f9-60ae-420b-b5f3-8ec8cd0d2d52",
   "metadata": {},
   "source": [
    "Here, I train the model. Training the data involves feeding the training data into the model and validating its performance on the validatation data. The **fit** method trains the model using the training data generator. It runs for 10 epochs. The validation data generator is used to monitor the model's performance on unseen data."
   ]
  },
  {
   "cell_type": "code",
   "execution_count": 9,
   "id": "4c50afb3-a1ad-48dd-bb5b-ac75755f7ffb",
   "metadata": {},
   "outputs": [
    {
     "name": "stdout",
     "output_type": "stream",
     "text": [
      "Epoch 1/20\n"
     ]
    },
    {
     "name": "stderr",
     "output_type": "stream",
     "text": [
      "2024-11-19 16:43:19.367355: I tensorflow/core/common_runtime/executor.cc:1197] [/device:CPU:0] (DEBUG INFO) Executor start aborting (this does not indicate an error and you can ignore this message): INVALID_ARGUMENT: You must feed a value for placeholder tensor 'Placeholder/_0' with dtype int32\n",
      "\t [[{{node Placeholder/_0}}]]\n",
      "2024-11-19 16:43:19.397981: W tensorflow/tsl/platform/profile_utils/cpu_utils.cc:128] Failed to get CPU frequency: 0 Hz\n"
     ]
    },
    {
     "name": "stdout",
     "output_type": "stream",
     "text": [
      "163/163 [==============================] - ETA: 0s - loss: 0.5315 - accuracy: 0.7483"
     ]
    },
    {
     "name": "stderr",
     "output_type": "stream",
     "text": [
      "2024-11-19 16:45:13.712398: I tensorflow/core/common_runtime/executor.cc:1197] [/device:CPU:0] (DEBUG INFO) Executor start aborting (this does not indicate an error and you can ignore this message): INVALID_ARGUMENT: You must feed a value for placeholder tensor 'Placeholder/_0' with dtype int32\n",
      "\t [[{{node Placeholder/_0}}]]\n"
     ]
    },
    {
     "name": "stdout",
     "output_type": "stream",
     "text": [
      "163/163 [==============================] - 115s 701ms/step - loss: 0.5315 - accuracy: 0.7483 - val_loss: 0.8060 - val_accuracy: 0.6250\n",
      "Epoch 2/20\n",
      "163/163 [==============================] - 115s 704ms/step - loss: 0.3924 - accuracy: 0.8246 - val_loss: 0.5033 - val_accuracy: 0.8125\n",
      "Epoch 3/20\n",
      "163/163 [==============================] - 107s 656ms/step - loss: 0.3135 - accuracy: 0.8553 - val_loss: 0.3864 - val_accuracy: 0.8125\n",
      "Epoch 4/20\n",
      "163/163 [==============================] - 107s 656ms/step - loss: 0.2862 - accuracy: 0.8763 - val_loss: 0.4327 - val_accuracy: 0.8125\n",
      "Epoch 5/20\n",
      "163/163 [==============================] - 103s 633ms/step - loss: 0.2608 - accuracy: 0.8861 - val_loss: 0.4322 - val_accuracy: 0.8750\n",
      "Epoch 6/20\n",
      "163/163 [==============================] - 109s 665ms/step - loss: 0.2547 - accuracy: 0.8896 - val_loss: 0.5863 - val_accuracy: 0.8125\n",
      "Epoch 7/20\n",
      "163/163 [==============================] - 96s 587ms/step - loss: 0.2439 - accuracy: 0.8993 - val_loss: 1.0847 - val_accuracy: 0.7500\n",
      "Epoch 8/20\n",
      "163/163 [==============================] - 96s 588ms/step - loss: 0.2263 - accuracy: 0.9072 - val_loss: 0.5583 - val_accuracy: 0.8750\n",
      "Epoch 9/20\n",
      "163/163 [==============================] - 96s 588ms/step - loss: 0.2189 - accuracy: 0.9091 - val_loss: 0.7980 - val_accuracy: 0.7500\n",
      "Epoch 10/20\n",
      "163/163 [==============================] - 96s 586ms/step - loss: 0.2212 - accuracy: 0.9112 - val_loss: 0.7662 - val_accuracy: 0.8125\n",
      "Epoch 11/20\n",
      "163/163 [==============================] - 96s 589ms/step - loss: 0.2091 - accuracy: 0.9178 - val_loss: 0.6666 - val_accuracy: 0.7500\n",
      "Epoch 12/20\n",
      "163/163 [==============================] - 97s 595ms/step - loss: 0.2075 - accuracy: 0.9151 - val_loss: 0.5026 - val_accuracy: 0.8125\n",
      "Epoch 13/20\n",
      "163/163 [==============================] - 1433s 9s/step - loss: 0.1948 - accuracy: 0.9172 - val_loss: 0.8033 - val_accuracy: 0.7500\n",
      "Epoch 14/20\n",
      "163/163 [==============================] - 98s 601ms/step - loss: 0.1862 - accuracy: 0.9227 - val_loss: 0.5004 - val_accuracy: 0.8750\n",
      "Epoch 15/20\n",
      "163/163 [==============================] - 97s 596ms/step - loss: 0.1898 - accuracy: 0.9248 - val_loss: 0.7453 - val_accuracy: 0.8125\n",
      "Epoch 16/20\n",
      "163/163 [==============================] - 97s 593ms/step - loss: 0.1809 - accuracy: 0.9247 - val_loss: 0.6792 - val_accuracy: 0.8750\n",
      "Epoch 17/20\n",
      "163/163 [==============================] - 102s 627ms/step - loss: 0.1675 - accuracy: 0.9327 - val_loss: 0.6971 - val_accuracy: 0.7500\n",
      "Epoch 18/20\n",
      "163/163 [==============================] - 123s 755ms/step - loss: 0.1628 - accuracy: 0.9388 - val_loss: 0.4830 - val_accuracy: 0.8125\n",
      "Epoch 19/20\n",
      "163/163 [==============================] - 115s 707ms/step - loss: 0.1613 - accuracy: 0.9342 - val_loss: 0.4736 - val_accuracy: 0.8125\n",
      "Epoch 20/20\n",
      "163/163 [==============================] - 120s 737ms/step - loss: 0.1549 - accuracy: 0.9404 - val_loss: 0.4671 - val_accuracy: 0.7500\n"
     ]
    }
   ],
   "source": [
    "# train the model with data generators\n",
    "hist = model.fit(\n",
    "    train_generator,\n",
    "    epochs=20,\n",
    "    validation_data=valid_generator\n",
    ")"
   ]
  },
  {
   "cell_type": "markdown",
   "id": "db5349f7-76bc-4805-ba2f-cd05ee661f0b",
   "metadata": {},
   "source": [
    "### Step 5: Plotting the Loss and Accuracy"
   ]
  },
  {
   "cell_type": "markdown",
   "id": "dee26069-244d-46b4-abd1-e0246deb4ea1",
   "metadata": {},
   "source": [
    "After training, I plotted the loss and accuracy for both the training and validation sets. This helps visualize the model's performance over time and see if there are issues with the CNN, such as overfitting and underfitting."
   ]
  },
  {
   "cell_type": "markdown",
   "id": "ae25783e-d4c7-4cbb-9de1-2e35792192d2",
   "metadata": {},
   "source": [
    "For the training set, as expcted, the loss decreased over time, which is good because the smaller the loss, the smaller the error/gap between predicted values and actual values. The loss for the training data was 15.49%. As for the validation set, the loss is discontinuous, and keeps jumping up and and down. It seems that the model was overfitting the validation, which makes, considering that training data did so well. However, but the end of the validation set, the loss ended at 46.71%. In terms for the validation set, this model shows that there is 46.71% by the end of the model, which is quite the gap. So, I think that the model overfits the data than generalizes it. I was looking at the plotted results from Kaggle and it seems that my model deals with similar issues with theirs. Theirs also struggles with an overfitting issue, which can mean that the the model is inconsistent."
   ]
  },
  {
   "cell_type": "code",
   "execution_count": 13,
   "id": "490f6b65-f603-46c6-baf0-ae75d3de6541",
   "metadata": {},
   "outputs": [
    {
     "data": {
      "text/plain": [
       "<matplotlib.legend.Legend at 0x17b96d810>"
      ]
     },
     "execution_count": 13,
     "metadata": {},
     "output_type": "execute_result"
    },
    {
     "data": {
      "image/png": "[encoded data removed]",
      "text/plain": [
       "<Figure size 640x480 with 1 Axes>"
      ]
     },
     "metadata": {},
     "output_type": "display_data"
    }
   ],
   "source": [
    "# plot training and validation loss values\n",
    "plt.xlabel('Epoch Number')\n",
    "plt.ylabel('Loss')\n",
    "plt.plot(hist.history['loss'], label='training set')\n",
    "plt.plot(hist.history['val_loss'], label='validation set')\n",
    "plt.legend()"
   ]
  },
  {
   "cell_type": "markdown",
   "id": "ac2b5a47-b24a-4142-a555-bd2ae7caeaee",
   "metadata": {},
   "source": [
    "For the accuracy values, we see the same issue where the training data does very well over time, but the validation data, not so much. The plot shows more proof that the model overfits the data. Again, the training set increases, but the validation set jumps a lot. So, the fact that the loss values and the accuracy are unstable, the model overfits the data. "
   ]
  },
  {
   "cell_type": "code",
   "execution_count": 14,
   "id": "3c44d3db-d525-46e3-aa3d-2e3bec5c7310",
   "metadata": {},
   "outputs": [
    {
     "data": {
      "text/plain": [
       "<matplotlib.legend.Legend at 0x15005f890>"
      ]
     },
     "execution_count": 14,
     "metadata": {},
     "output_type": "execute_result"
    },
    {
     "data": {
      "image/png": "[encoded data removed]",
      "text/plain": [
       "<Figure size 640x480 with 1 Axes>"
      ]
     },
     "metadata": {},
     "output_type": "display_data"
    }
   ],
   "source": [
    "# plot training and validation accuracy values\n",
    "plt.xlabel('Epoch Number')\n",
    "plt.ylabel('Accuracy')\n",
    "plt.plot(hist.history['accuracy'], label='training set')\n",
    "plt.plot(hist.history['val_accuracy'], label='validation set')\n",
    "plt.legend()"
   ]
  },
  {
   "cell_type": "markdown",
   "id": "4358f9c2-206e-4f37-a998-f8eade7bb43b",
   "metadata": {},
   "source": [
    "### Step 6: Model Evaluation"
   ]
  },
  {
   "cell_type": "markdown",
   "id": "c3048079-da51-4329-94c7-ab28fb4b4821",
   "metadata": {},
   "source": [
    "Finally, I evaluated the model. Evaluating the model involves testing ites performace on the test dataset, which has never seen before. The **evaluate** method calculates the loss and the accuracy of the model on the test data. Here, we see how the model runs on new data in the test set."
   ]
  },
  {
   "cell_type": "code",
   "execution_count": 12,
   "id": "e4a9fb68-f31b-44c5-b30a-2d4aa460e669",
   "metadata": {},
   "outputs": [
    {
     "name": "stderr",
     "output_type": "stream",
     "text": [
      "2024-11-19 17:40:18.616426: I tensorflow/core/common_runtime/executor.cc:1197] [/device:CPU:0] (DEBUG INFO) Executor start aborting (this does not indicate an error and you can ignore this message): INVALID_ARGUMENT: You must feed a value for placeholder tensor 'Placeholder/_0' with dtype int32\n",
      "\t [[{{node Placeholder/_0}}]]\n"
     ]
    },
    {
     "name": "stdout",
     "output_type": "stream",
     "text": [
      "20/20 [==============================] - 5s 255ms/step - loss: 0.2435 - accuracy: 0.9343\n",
      "Validation loss:  0.2435215413570404\n",
      "Validation accuracy:  0.9342948794364929\n"
     ]
    }
   ],
   "source": [
    "# evaluate the model on the test data\n",
    "validation_loss, validation_accuracy = model.evaluate(test_generator)\n",
    "\n",
    "# print the validation loss and accuracy\n",
    "print('Validation loss: ', validation_loss)\n",
    "print('Validation accuracy: ', validation_accuracy)"
   ]
  },
  {
   "cell_type": "markdown",
   "id": "5b5d810d-8451-4e5f-ac32-c03c1a040bed",
   "metadata": {},
   "source": [
    "From the looks of this, the loss on the test set approximately 24.35% with an accuracy of 93.43%. I'm glad the model works great with the test data, but there's a disconnect between the model and the data. While the accuracy on the test set is pretty high, there are fluctuations in the accuracy in the validation set, which shows that there's some kind of inconsistency in the model. To add, the validation loss is high for validation set, which could mean that it can predict the categories of the images correctly, but is not confident with the predictions. Finally, because there is a pretty large gap between and the training accuracy and the validation accuracy, it shows that the model overfits or is having issues with generalizing to new data. "
   ]
  },
  {
   "cell_type": "markdown",
   "id": "1db8257a-9daf-4414-8ac3-41b42ffabf98",
   "metadata": {},
   "source": [
    "### Step 7: Reflection"
   ]
  },
  {
   "cell_type": "markdown",
   "id": "77ce00c3-66b2-4625-85ec-c4033aa3c9df",
   "metadata": {},
   "source": [
    "Overall, this project was a big learning experience for me. I have spent countless of hours trying to figure out what to do to make the model not overfit the data, and still achieve the best accuracy. It hasn't been promising, but the most important thing is that I learned a lot about machine learning with this experience. I have split the data myself in another draft to get rid of the imbalance, I've tried different augumentations, even using no augumentation, and playing around with the CNN. I have not gotten it down yet, but one day I will. I'm glad that that the accuracy on the testing data was 93.43% was great, it shows that the model can detect if an X-Ray has pneumonia or not. However, this wouldn't be acceptable for real-world scenarios because the model is not confident at giving me good predictions. The biggest challenge that I faced here was that I didn't have much knowledge about what I was doing and I was learning on the way. I tried to be creative to make my pneumonia detector based on other sources, but it's been more difficult, especially in multiple drafts, where it only got worse. I truly think I'm missing an obvious detail - maybe it's the data - I don't know. "
   ]
  },
  {
   "cell_type": "markdown",
   "id": "6c299bf0-e69e-443a-9323-2f78905dcc0e",
   "metadata": {},
   "source": [
    "So, did I fail? I would say no, because I took as much time as possible to learn as much as I can, which is the overall goal of these projects. For sure, I didn't achieve what I wanted to achieve, but with more experience, I'm sure that I can accomplish this task. The good thing about this project is that I didn't have to get everything perfect - I had to attempt to and learn from it. I know for a fact that's what I did and I'm okay with that. Next time, when I have more time to look into the project, I will do more research, and do the best to level up the project. "
   ]
  },
  {
   "cell_type": "markdown",
   "id": "53c805ff-fb18-491b-b01c-c30df2a3f3d4",
   "metadata": {},
   "source": [
    "# References"
   ]
  },
  {
   "cell_type": "markdown",
   "id": "8e791f40-9caa-46e0-a2e9-2eb02c5f08a1",
   "metadata": {},
   "source": [
    "chandimap. (2019). Pneumonia-Detection-of-Chest-X-Ray-Images/Preprocessing.ipynb at master · chandimap/Pneumonia-Detection-of-Chest-X-Ray-Images. GitHub. https://github.com/chandimap/Pneumonia-Detection-of-Chest-X-Ray-Images/blob/master/Preprocessing.ipynb"
   ]
  },
  {
   "cell_type": "markdown",
   "id": "1b497f11-181c-4282-bfe4-44954b3dc599",
   "metadata": {},
   "source": [
    "Chollet, F. (2016). Building powerful image classification models using very little data. Keras.io. https://blog.keras.io/building-powerful-image-classification-models-using-very-little-data.html"
   ]
  },
  {
   "cell_type": "markdown",
   "id": "89eff23a-86cf-4507-8298-7e4dbb642fff",
   "metadata": {},
   "source": [
    "Mathur, M. (n.d.). Pneumonia Detection using CNN(92.6% Accuracy). Kaggle.com. https://www.kaggle.com/code/madz2000/pneumonia-detection-using-cnn-92-6-accuracy"
   ]
  },
  {
   "cell_type": "markdown",
   "id": "557fb73f-a66c-4ee6-ba24-833ae472fd41",
   "metadata": {},
   "source": [
    "Pneumonia Detection Using CNN in Python. (2023, March 23). GeeksforGeeks. https://www.geeksforgeeks.org/pneumonia-detection-using-cnn-in-python/"
   ]
  }
 ],
 "metadata": {
  "kernelspec": {
   "display_name": "Python 3 (ipykernel)",
   "language": "python",
   "name": "python3"
  },
  "language_info": {
   "codemirror_mode": {
    "name": "ipython",
    "version": 3
   },
   "file_extension": ".py",
   "mimetype": "text/x-python",
   "name": "python",
   "nbconvert_exporter": "python",
   "pygments_lexer": "ipython3",
   "version": "3.12.2"
  }
 },
 "nbformat": 4,
 "nbformat_minor": 5
}
